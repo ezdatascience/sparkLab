{
 "cells": [
  {
   "cell_type": "code",
   "execution_count": 1,
   "metadata": {},
   "outputs": [
    {
     "name": "stdout",
     "output_type": "stream",
     "text": [
      "Requirement already satisfied: findspark in c:\\users\\zhangyp\\appdata\\local\\continuum\\anaconda3\\envs\\tensorflow\\lib\\site-packages\n"
     ]
    }
   ],
   "source": [
    "! pip install findspark "
   ]
  },
  {
   "cell_type": "code",
   "execution_count": 5,
   "metadata": {},
   "outputs": [],
   "source": [
    "import findspark\n",
    "findspark.init('/opt/spark/spark-2.2.0-bin-hadoop2.7/')\n"
   ]
  },
  {
   "cell_type": "code",
   "execution_count": 4,
   "metadata": {},
   "outputs": [
    {
     "name": "stdout",
     "output_type": "stream",
     "text": [
      "$SPARK_HOME\n"
     ]
    }
   ],
   "source": [
    "! echo $SPARK_HOME\n"
   ]
  },
  {
   "cell_type": "code",
   "execution_count": 6,
   "metadata": {
    "collapsed": true
   },
   "outputs": [],
   "source": [
    "from pyspark import SparkContext, SparkConf"
   ]
  },
  {
   "cell_type": "code",
   "execution_count": 8,
   "metadata": {},
   "outputs": [
    {
     "name": "stdout",
     "output_type": "stream",
     "text": [
      "[1, 4, 6, 2, 9, 10]\n"
     ]
    },
    {
     "data": {
      "text/plain": [
       "'(((((1, 4), 6), 2), 9), 10)'"
      ]
     },
     "execution_count": 8,
     "metadata": {},
     "output_type": "execute_result"
    }
   ],
   "source": [
    "# we define a list of integers\n",
    "numbers = [1, 4, 6, 2, 9, 10]\n",
    "\n",
    "# Use reduce to combine numbers\n",
    "from functools import reduce\n",
    "\n",
    "print(numbers)\n",
    "reduce(lambda x,y: \"(\" + str(x) + \", \" + str(y) + \")\",numbers)"
   ]
  },
  {
   "cell_type": "code",
   "execution_count": 9,
   "metadata": {
    "collapsed": true
   },
   "outputs": [],
   "source": [
    "from pyspark import SparkContext\n",
    "sc = SparkContext('local[2]', 'pyspark tutorial') "
   ]
  },
  {
   "cell_type": "code",
   "execution_count": 10,
   "metadata": {},
   "outputs": [
    {
     "name": "stdout",
     "output_type": "stream",
     "text": [
      "ParallelCollectionRDD[0] at parallelize at PythonRDD.scala:480\n",
      "[283.15, 276.15, 268.15, 298.15, 274.15, 282.15, 302.15, 263.15, 278.15]\n"
     ]
    }
   ],
   "source": [
    "temp_c = [10, 3, -5, 25, 1, 9, 29, -10, 5]\n",
    "rdd_temp_c = sc.parallelize(temp_c)\n",
    "rdd_temp_K = rdd_temp_c.map(lambda x: x + 273.15).collect()\n",
    "print(rdd_temp_c)\n",
    "print(rdd_temp_K)  "
   ]
  },
  {
   "cell_type": "code",
   "execution_count": 11,
   "metadata": {},
   "outputs": [
    {
     "name": "stdout",
     "output_type": "stream",
     "text": [
      "ParallelCollectionRDD[2] at parallelize at PythonRDD.scala:480\n",
      "PythonRDD[3] at RDD at PythonRDD.scala:48\n"
     ]
    }
   ],
   "source": [
    "temp_c = [10, 3, -5, 25, 1, 9, 29, -10, 5]\n",
    "rdd_temp_c = sc.parallelize(temp_c)\n",
    "rdd_temp_K = rdd_temp_c.map(lambda x: x + 273.15)\n",
    "print(rdd_temp_c)\n",
    "print(rdd_temp_K)  "
   ]
  },
  {
   "cell_type": "code",
   "execution_count": 13,
   "metadata": {},
   "outputs": [
    {
     "name": "stdout",
     "output_type": "stream",
     "text": [
      "[10, 3, -5, 25, 1, 9, 29, -10, 5]\n",
      "[283.15, 276.15, 268.15, 298.15, 274.15, 282.15, 302.15, 263.15, 278.15]\n"
     ]
    }
   ],
   "source": [
    "temp_c = [10, 3, -5, 25, 1, 9, 29, -10, 5]\n",
    "rdd_temp_c = sc.parallelize(temp_c)\n",
    "rdd_temp_d = rdd_temp_c.collect()\n",
    "rdd_temp_K = rdd_temp_c.map(lambda x: x + 273.15).collect()\n",
    "print(rdd_temp_d)\n",
    "print(rdd_temp_K)  "
   ]
  },
  {
   "cell_type": "code",
   "execution_count": 14,
   "metadata": {},
   "outputs": [
    {
     "name": "stdout",
     "output_type": "stream",
     "text": [
      "[10, 3, -5, 25, 1, 9, 29, -10, 5]\n",
      "[283.15, 276.15, 268.15]\n"
     ]
    }
   ],
   "source": [
    "temp_c = [10, 3, -5, 25, 1, 9, 29, -10, 5]\n",
    "rdd_temp_c = sc.parallelize(temp_c)\n",
    "rdd_temp_d = rdd_temp_c.collect()\n",
    "rdd_temp_K = rdd_temp_c.map(lambda x: x + 273.15).take(3)\n",
    "print(rdd_temp_d)\n",
    "print(rdd_temp_K)  "
   ]
  },
  {
   "cell_type": "code",
   "execution_count": 15,
   "metadata": {},
   "outputs": [
    {
     "name": "stdout",
     "output_type": "stream",
     "text": [
      "(((1, 4), 6), ((2, 9), 10))\n"
     ]
    }
   ],
   "source": [
    "# we define a list of integers\n",
    "numbers = [1, 4, 6, 2, 9, 10]\n",
    "\n",
    "rdd_numbers=sc.parallelize(numbers)\n",
    "\n",
    "# Use reduce to combine numbers\n",
    "\n",
    "rdd_reduce = rdd_numbers.reduce(lambda x,y : \"(\" + str(x) +\", \" + str(y) +\")\")\n",
    "print(rdd_reduce)"
   ]
  },
  {
   "cell_type": "code",
   "execution_count": 16,
   "metadata": {
    "collapsed": true
   },
   "outputs": [],
   "source": [
    "rdd_reduce = rdd_numbers.reduce(lambda x,y: \"(\" + str(x) + \", \" + str(y) + \")\")"
   ]
  },
  {
   "cell_type": "code",
   "execution_count": 17,
   "metadata": {},
   "outputs": [
    {
     "name": "stdout",
     "output_type": "stream",
     "text": [
      "(((1, 4), 6), ((2, 9), 10))\n"
     ]
    }
   ],
   "source": [
    "print(rdd_reduce)"
   ]
  },
  {
   "cell_type": "code",
   "execution_count": null,
   "metadata": {
    "collapsed": true
   },
   "outputs": [],
   "source": []
  }
 ],
 "metadata": {
  "kernelspec": {
   "display_name": "Python 3",
   "language": "python",
   "name": "python3"
  },
  "language_info": {
   "codemirror_mode": {
    "name": "ipython",
    "version": 3
   },
   "file_extension": ".py",
   "mimetype": "text/x-python",
   "name": "python",
   "nbconvert_exporter": "python",
   "pygments_lexer": "ipython3",
   "version": "3.5.3"
  }
 },
 "nbformat": 4,
 "nbformat_minor": 2
}
